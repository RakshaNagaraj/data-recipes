{
 "cells": [
  {
   "cell_type": "markdown",
   "metadata": {},
   "source": [
    "Science Objective:\n",
    "Characterize the 3-D microphysical evolution and distribution of snow in context of the thermodynamic environment observed during the February 24th event of the GPM Cold-season Precipitation Experiment (GCPEx).\n",
    "\n",
    "Science Theme: Snow Microphysics\n",
    "\n",
    "Temporal Bounds: 24 Feb, 2012 1100 UTC to 25 Feb 2012 0000 UTC \n",
    "Spatial Bounds:\n",
    "    Latitude Domain: [ 44°, 46°] \n",
    "    Longitude Domain: [ -81°, -78°]\n",
    "\n",
    "Reference Material:\n",
    "    • GCPEx Mission Science Report for 24 Feb 2012 (available from GHRC GCPEx Portal)\n",
    "    • Skofronick-Jackson, G., and Coauthors, 2015: Global Precipitation Measurement Cold \n",
    "      Season Precipitation Experiment (GCPEX): For Measurement’s Sake, Let It Snow. Bull.  \n",
    "      Amer. Meteor. Soc., 96, 1719–1741.\n",
    "      doi: http://dx.doi.org/10.1175/BAMS-D-13-00262.1\n",
    "    • Matsui, T., and Coauthors, 2013: GPM satellite simulator over ground validation sites. \n",
    "    Bull. Amer. Meteor. Soc., 94, 1653–1660, doi: http://dx.doi.org/10.1175/BAMS-D-12-00160.1.    \n",
    "    \n",
    "Use case by Patrick Gatlin and Kaylin Bugbee\n",
    "\n",
    "Notebook Author: Manil Maskey"
   ]
  },
  {
   "cell_type": "markdown",
   "metadata": {},
   "source": [
    "import necessary libraries and set flag"
   ]
  },
  {
   "cell_type": "code",
   "execution_count": 1,
   "metadata": {
    "collapsed": true
   },
   "outputs": [],
   "source": [
    "import requests\n",
    "import os\n",
    "import warnings\n",
    "from IPython.display import FileLink, FileLinks\n",
    "#Ignore SSL Certificate Warning -\n",
    "warnings.filterwarnings('ignore')\n"
   ]
  },
  {
   "cell_type": "markdown",
   "metadata": {},
   "source": [
    "Method to make OPeNDAP User Aggregation request and save result as file (zip)"
   ]
  },
  {
   "cell_type": "code",
   "execution_count": 2,
   "metadata": {
    "collapsed": false
   },
   "outputs": [],
   "source": [
    "def subset(endpoint, payload,outfile):\n",
    "\tresponse = requests.post(endpoint, verify=False,data=payload, stream=True)\n",
    "\tif not response.ok:\n",
    "\t\tprint (\"Something is wrong!\")\n",
    "\twith open(outfile, 'wb') as handle:\n",
    "\t\tfor block in response.iter_content():\n",
    "\t\t\thandle.write(block)"
   ]
  },
  {
   "cell_type": "markdown",
   "metadata": {},
   "source": [
    "Create directory to store the virtual collection"
   ]
  },
  {
   "cell_type": "code",
   "execution_count": 3,
   "metadata": {
    "collapsed": false
   },
   "outputs": [],
   "source": [
    "if not os.path.exists('./vc'):\n",
    "    os.makedirs('./vc')"
   ]
  },
  {
   "cell_type": "markdown",
   "metadata": {},
   "source": [
    "Subset Dual Polarization Radiometer (DPR) of University of Cologne - Brightness Temperature"
   ]
  },
  {
   "cell_type": "code",
   "execution_count": 4,
   "metadata": {
    "collapsed": false
   },
   "outputs": [],
   "source": [
    "dprfiles = {'operation': 'netcdf4', \n",
    "            'var':'air_temperature.air_temperature,instrument_elevation_angle.instrument_elevation_angle,time',\n",
    "            'bbox':'[11,time,24]',\n",
    "            'file':['/gpm_validation/gcpex/radiometer_dual_pol/data/gcpex_dpr_20120224_L1b.nc',\n",
    "                    '/gpm_validation/gcpex/radiometer_dual_pol/data/gcpex_dpr_20120225_L1b.nc']}\n",
    "subset(\"https://fcportal.nsstc.nasa.gov/opendap/aggregation\",dprfiles,'./vc/GCPEx_dpr_GoldenCase.zip')"
   ]
  },
  {
   "cell_type": "markdown",
   "metadata": {},
   "source": [
    "Subset D3R  - Radar Reflectivity Factor"
   ]
  },
  {
   "cell_type": "code",
   "execution_count": 5,
   "metadata": {
    "collapsed": true
   },
   "outputs": [],
   "source": [
    "d3rfiles = {'operation': 'netcdf4', \n",
    "            'var':'Reflectivity,Azimuth,Elevation,GateWidth,StartRange,StartGate,Time',\n",
    "            'file':['/gpm_validation/gcpex/D3R/data/2012-02-24/gcpex_d3r_ka_20120224_000048_01.nc',\n",
    "                    '/gpm_validation/gcpex/D3R/data/2012-02-24/gcpex_d3r_ka_20120224_000226_01.nc']}\n",
    "subset(\"https://fcportal.nsstc.nasa.gov/opendap/aggregation\",d3rfiles,'./vc/GCPEx_d3r_GoldenCase.zip')"
   ]
  },
  {
   "cell_type": "markdown",
   "metadata": {},
   "source": [
    "Subset Advanced Precipitation Radar 2 (APR-2) - Radar Reflectivity Factor"
   ]
  },
  {
   "cell_type": "code",
   "execution_count": 6,
   "metadata": {
    "collapsed": true
   },
   "outputs": [],
   "source": [
    "apr2files = {'operation': 'netcdf4', \n",
    "             'var':'lat,lon,isurf,beamnum,sequence,scantime,range0',\n",
    "             'file':['/gpm_validation/gcpex/APR2/data/APR2.120224.122149.20.HDF.gz',\n",
    "                     '/gpm_validation/gcpex/APR2/data/APR2.120224.123755.20.HDF.gz',\n",
    "                     '/gpm_validation/gcpex/APR2/data/APR2.120224.125145.20.HDF.gz']}\n",
    "subset(\"https://fcportal.nsstc.nasa.gov/opendap/aggregation\",apr2files,'./vc/GCPEx_apr2_GoldenCase.zip')"
   ]
  },
  {
   "cell_type": "markdown",
   "metadata": {},
   "source": [
    "Subset Particle Size Distribution Dataset"
   ]
  },
  {
   "cell_type": "code",
   "execution_count": 7,
   "metadata": {
    "collapsed": true
   },
   "outputs": [],
   "source": [
    "psdfiles = {'operation': 'netcdf4', \n",
    "             'var':'IWC,Bin_Size,time,Concentration',\n",
    "             'file':['/gpm_validation/gcpex/cloud_microphysics_Citation/NCAR_particle_probes/data/nc/20120224/20120224_113410.2DC.1Hz.nc',\n",
    "                     '/gpm_validation/gcpex/cloud_microphysics_Citation/NCAR_particle_probes/data/nc/20120224/20120224_164010.2DC.1Hz.nc',\n",
    "                     '/gpm_validation/gcpex/cloud_microphysics_Citation/NCAR_particle_probes/data/nc/20120224/20120224_113410.HVPS3.1Hz.nc',\n",
    "                     '/gpm_validation/gcpex/cloud_microphysics_Citation/NCAR_particle_probes/data/nc/20120224/20120224_164010.HVPS3.1Hz.nc']}\n",
    "subset(\"https://fcportal.nsstc.nasa.gov/opendap/aggregation\",psdfiles,'./vc/GCPEx_ParticleSizeDist_GoldenCase.zip')"
   ]
  },
  {
   "cell_type": "markdown",
   "metadata": {},
   "source": [
    "Display links to downloads"
   ]
  },
  {
   "cell_type": "code",
   "execution_count": 8,
   "metadata": {
    "collapsed": false
   },
   "outputs": [
    {
     "data": {
      "text/html": [
       "./vc/<br>\n",
       "&nbsp;&nbsp;<a href='./vc/GCPEx_dpr_GoldenCase.zip' target='_blank'>GCPEx_dpr_GoldenCase.zip</a><br>\n",
       "&nbsp;&nbsp;<a href='./vc/GCPEx_apr2_GoldenCase.zip' target='_blank'>GCPEx_apr2_GoldenCase.zip</a><br>\n",
       "&nbsp;&nbsp;<a href='./vc/GCPEx_ParticleSizeDist_GoldenCase.zip' target='_blank'>GCPEx_ParticleSizeDist_GoldenCase.zip</a><br>\n",
       "&nbsp;&nbsp;<a href='./vc/GCPEx_d3r_GoldenCase.zip' target='_blank'>GCPEx_d3r_GoldenCase.zip</a><br>"
      ],
      "text/plain": [
       "./vc/\n",
       "  GCPEx_dpr_GoldenCase.zip\n",
       "  GCPEx_apr2_GoldenCase.zip\n",
       "  GCPEx_ParticleSizeDist_GoldenCase.zip\n",
       "  GCPEx_d3r_GoldenCase.zip"
      ]
     },
     "execution_count": 8,
     "metadata": {},
     "output_type": "execute_result"
    }
   ],
   "source": [
    "FileLinks('./vc')"
   ]
  },
  {
   "cell_type": "code",
   "execution_count": null,
   "metadata": {
    "collapsed": true
   },
   "outputs": [],
   "source": []
  }
 ],
 "metadata": {
  "celltoolbar": "Raw Cell Format",
  "kernelspec": {
   "display_name": "Python 3",
   "language": "python",
   "name": "python3"
  },
  "language_info": {
   "codemirror_mode": {
    "name": "ipython",
    "version": 3
   },
   "file_extension": ".py",
   "mimetype": "text/x-python",
   "name": "python",
   "nbconvert_exporter": "python",
   "pygments_lexer": "ipython3",
   "version": "3.5.1"
  }
 },
 "nbformat": 4,
 "nbformat_minor": 0
}
